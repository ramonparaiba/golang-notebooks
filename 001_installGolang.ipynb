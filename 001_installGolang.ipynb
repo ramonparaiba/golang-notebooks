{
  "nbformat": 4,
  "nbformat_minor": 0,
  "metadata": {
    "colab": {
      "provenance": [],
      "authorship_tag": "ABX9TyN9aPvzUmVamwYtGkokh9IF",
      "include_colab_link": true
    },
    "kernelspec": {
      "name": "python3",
      "display_name": "Python 3"
    },
    "language_info": {
      "name": "python"
    }
  },
  "cells": [
    {
      "cell_type": "markdown",
      "metadata": {
        "id": "view-in-github",
        "colab_type": "text"
      },
      "source": [
        "<a href=\"https://colab.research.google.com/github/ramonparaiba/golang-notebooks/blob/main/001_installGolang.ipynb\" target=\"_parent\"><img src=\"https://colab.research.google.com/assets/colab-badge.svg\" alt=\"Open In Colab\"/></a>"
      ]
    },
    {
      "cell_type": "markdown",
      "source": [
        "# Instalação"
      ],
      "metadata": {
        "id": "CAtQCvOog2jV"
      }
    },
    {
      "cell_type": "code",
      "execution_count": null,
      "metadata": {
        "id": "5rzmemwTdZj8"
      },
      "outputs": [],
      "source": [
        "!apt install golang"
      ]
    },
    {
      "cell_type": "code",
      "source": [
        "!go version"
      ],
      "metadata": {
        "colab": {
          "base_uri": "https://localhost:8080/"
        },
        "id": "aaLhyy4ZdvAI",
        "outputId": "ffcccd8c-c369-4911-810d-2992704fb8b4"
      },
      "execution_count": 3,
      "outputs": [
        {
          "output_type": "stream",
          "name": "stdout",
          "text": [
            "go version go1.13.8 linux/amd64\n"
          ]
        }
      ]
    },
    {
      "cell_type": "markdown",
      "source": [
        "#Primeiro código golang"
      ],
      "metadata": {
        "id": "gaP2BdJEg9TA"
      }
    },
    {
      "cell_type": "code",
      "source": [
        "%%writefile main.go\n",
        "\n",
        "package main\n",
        "\n",
        "import \"fmt\"\n",
        "\n",
        "func main(){\n",
        "    fmt.Printf(\"Meu primeiro GO code no colab\")\n",
        "}"
      ],
      "metadata": {
        "colab": {
          "base_uri": "https://localhost:8080/"
        },
        "id": "k3vrzFsleM-t",
        "outputId": "cab6cb75-0fb7-4760-f771-ddfdf9767926"
      },
      "execution_count": 9,
      "outputs": [
        {
          "output_type": "stream",
          "name": "stdout",
          "text": [
            "Overwriting main.go\n"
          ]
        }
      ]
    },
    {
      "cell_type": "code",
      "source": [
        "!go run main.go"
      ],
      "metadata": {
        "colab": {
          "base_uri": "https://localhost:8080/"
        },
        "id": "VLqK3qROegke",
        "outputId": "e5de8c56-3161-4df1-82f5-b500d2fc952e"
      },
      "execution_count": 10,
      "outputs": [
        {
          "output_type": "stream",
          "name": "stdout",
          "text": [
            "Meu primeiro GO code no colab"
          ]
        }
      ]
    },
    {
      "cell_type": "markdown",
      "source": [
        "#Exemplos"
      ],
      "metadata": {
        "id": "9O-LzkxYhMJL"
      }
    },
    {
      "cell_type": "code",
      "source": [
        "Exercícios"
      ],
      "metadata": {
        "id": "Ee2Tmdd2hISk"
      },
      "execution_count": null,
      "outputs": []
    },
    {
      "cell_type": "code",
      "source": [
        "%%writefile learning.go\n",
        "package main\n",
        "import( \"fmt\"\n",
        " \"math\")\n",
        "\n",
        "func main(){\n",
        "  fmt.Println(math.Pi)\n",
        "}"
      ],
      "metadata": {
        "colab": {
          "base_uri": "https://localhost:8080/"
        },
        "id": "Txe9p4lVe2Eg",
        "outputId": "24aa1ef6-022b-41c0-f154-d97524d64c57"
      },
      "execution_count": 14,
      "outputs": [
        {
          "output_type": "stream",
          "name": "stdout",
          "text": [
            "Overwriting learning.go\n"
          ]
        }
      ]
    },
    {
      "cell_type": "code",
      "source": [
        "!go run learning.go"
      ],
      "metadata": {
        "colab": {
          "base_uri": "https://localhost:8080/"
        },
        "id": "_94Z1HEdfQIb",
        "outputId": "9e7c6e95-70d2-4965-dd9a-395bc68e74b4"
      },
      "execution_count": 15,
      "outputs": [
        {
          "output_type": "stream",
          "name": "stdout",
          "text": [
            "3.141592653589793\n"
          ]
        }
      ]
    }
  ]
}